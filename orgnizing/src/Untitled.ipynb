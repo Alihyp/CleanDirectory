{
 "cells": [
  {
   "cell_type": "code",
   "execution_count": 73,
   "id": "39075a4f",
   "metadata": {},
   "outputs": [],
   "source": [
    "from pathlib import Path \n",
    "from collections import Counter\n",
    "# import filetype"
   ]
  },
  {
   "cell_type": "code",
   "execution_count": 74,
   "id": "821fdbce",
   "metadata": {},
   "outputs": [],
   "source": [
    "PATH = Path('/mnt/c/Users/Asus/Downloads')"
   ]
  },
  {
   "cell_type": "code",
   "execution_count": 75,
   "id": "b0df322c",
   "metadata": {},
   "outputs": [],
   "source": [
    "file_dest = {\n",
    "    '.zip' : 'zips',\n",
    "    '.exe' : 'exes',\n",
    "    '.pdf' : 'documents',\n",
    "    '.rar' : 'documents',\n",
    "}"
   ]
  },
  {
   "cell_type": "code",
   "execution_count": 78,
   "id": "87584488",
   "metadata": {},
   "outputs": [],
   "source": [
    "file_extentions = []\n",
    "for file_path in PATH.iterdir():\n",
    "    if file_path.is_dir():\n",
    "        continue\n",
    "    # getting all files \n",
    "    file_extentions.append(file_path.suffix)\n",
    "    \n",
    "    if file_path not in file_dest:\n",
    "        continue\n",
    "    \n",
    "    DEST = PATH / file_dest[file_path.suffix]\n",
    "    DEST.mkdir(exist_ok=True)\n",
    "    print(DEST)"
   ]
  },
  {
   "cell_type": "code",
   "execution_count": 79,
   "id": "7ee37e7f",
   "metadata": {},
   "outputs": [
    {
     "data": {
      "text/plain": [
       "[('.mkv', 96),\n",
       " ('.zip', 80),\n",
       " ('.exe', 60),\n",
       " ('.pdf', 36),\n",
       " ('.rar', 36),\n",
       " ('.epub', 12),\n",
       " ('', 12),\n",
       " ('.crdownload', 12),\n",
       " ('.mp4', 8),\n",
       " ('.htm', 8),\n",
       " ('.azw3', 4),\n",
       " ('.msi', 4),\n",
       " ('.lnk', 4),\n",
       " ('.ini', 4),\n",
       " ('.html', 4),\n",
       " ('.swf', 4),\n",
       " ('.apk', 4),\n",
       " ('.torrent', 4)]"
      ]
     },
     "execution_count": 79,
     "metadata": {},
     "output_type": "execute_result"
    }
   ],
   "source": [
    "Counter(my_extentions).most_common()"
   ]
  },
  {
   "cell_type": "code",
   "execution_count": null,
   "id": "9bc7cb6e",
   "metadata": {},
   "outputs": [],
   "source": []
  }
 ],
 "metadata": {
  "kernelspec": {
   "display_name": "Python 3 (ipykernel)",
   "language": "python",
   "name": "python3"
  },
  "language_info": {
   "codemirror_mode": {
    "name": "ipython",
    "version": 3
   },
   "file_extension": ".py",
   "mimetype": "text/x-python",
   "name": "python",
   "nbconvert_exporter": "python",
   "pygments_lexer": "ipython3",
   "version": "3.7.11"
  }
 },
 "nbformat": 4,
 "nbformat_minor": 5
}
